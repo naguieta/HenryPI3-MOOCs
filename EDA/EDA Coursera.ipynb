{
 "cells": [
  {
   "cell_type": "markdown",
   "metadata": {},
   "source": [
    "## Cargamos los archivos de Coursera y verificamos sus propiedades ##"
   ]
  },
  {
   "cell_type": "code",
   "execution_count": 114,
   "metadata": {},
   "outputs": [
    {
     "name": "stdout",
     "output_type": "stream",
     "text": [
      "Cantidad de filas: 623\n"
     ]
    },
    {
     "data": {
      "text/html": [
       "<div>\n",
       "<style scoped>\n",
       "    .dataframe tbody tr th:only-of-type {\n",
       "        vertical-align: middle;\n",
       "    }\n",
       "\n",
       "    .dataframe tbody tr th {\n",
       "        vertical-align: top;\n",
       "    }\n",
       "\n",
       "    .dataframe thead th {\n",
       "        text-align: right;\n",
       "    }\n",
       "</style>\n",
       "<table border=\"1\" class=\"dataframe\">\n",
       "  <thead>\n",
       "    <tr style=\"text-align: right;\">\n",
       "      <th></th>\n",
       "      <th>name</th>\n",
       "      <th>institution</th>\n",
       "      <th>course_url</th>\n",
       "      <th>course_id</th>\n",
       "    </tr>\n",
       "  </thead>\n",
       "  <tbody>\n",
       "    <tr>\n",
       "      <th>0</th>\n",
       "      <td>Machine Learning</td>\n",
       "      <td>Stanford University</td>\n",
       "      <td>https://www.coursera.org/learn/machine-learning</td>\n",
       "      <td>machine-learning</td>\n",
       "    </tr>\n",
       "    <tr>\n",
       "      <th>1</th>\n",
       "      <td>Indigenous Canada</td>\n",
       "      <td>University of Alberta</td>\n",
       "      <td>https://www.coursera.org/learn/indigenous-canada</td>\n",
       "      <td>indigenous-canada</td>\n",
       "    </tr>\n",
       "    <tr>\n",
       "      <th>2</th>\n",
       "      <td>The Science of Well-Being</td>\n",
       "      <td>Yale University</td>\n",
       "      <td>https://www.coursera.org/learn/the-science-of-...</td>\n",
       "      <td>the-science-of-well-being</td>\n",
       "    </tr>\n",
       "    <tr>\n",
       "      <th>3</th>\n",
       "      <td>Technical Support Fundamentals</td>\n",
       "      <td>Google</td>\n",
       "      <td>https://www.coursera.org/learn/technical-suppo...</td>\n",
       "      <td>technical-support-fundamentals</td>\n",
       "    </tr>\n",
       "    <tr>\n",
       "      <th>4</th>\n",
       "      <td>Become a CBRS Certified Professional Installer...</td>\n",
       "      <td>Google - Spectrum Sharing</td>\n",
       "      <td>https://www.coursera.org/learn/google-cbrs-cpi...</td>\n",
       "      <td>google-cbrs-cpi-training</td>\n",
       "    </tr>\n",
       "  </tbody>\n",
       "</table>\n",
       "</div>"
      ],
      "text/plain": [
       "                                                name  \\\n",
       "0                                   Machine Learning   \n",
       "1                                  Indigenous Canada   \n",
       "2                          The Science of Well-Being   \n",
       "3                     Technical Support Fundamentals   \n",
       "4  Become a CBRS Certified Professional Installer...   \n",
       "\n",
       "                 institution  \\\n",
       "0        Stanford University   \n",
       "1      University of Alberta   \n",
       "2            Yale University   \n",
       "3                     Google   \n",
       "4  Google - Spectrum Sharing   \n",
       "\n",
       "                                          course_url  \\\n",
       "0    https://www.coursera.org/learn/machine-learning   \n",
       "1   https://www.coursera.org/learn/indigenous-canada   \n",
       "2  https://www.coursera.org/learn/the-science-of-...   \n",
       "3  https://www.coursera.org/learn/technical-suppo...   \n",
       "4  https://www.coursera.org/learn/google-cbrs-cpi...   \n",
       "\n",
       "                        course_id  \n",
       "0                machine-learning  \n",
       "1               indigenous-canada  \n",
       "2       the-science-of-well-being  \n",
       "3  technical-support-fundamentals  \n",
       "4        google-cbrs-cpi-training  "
      ]
     },
     "execution_count": 114,
     "metadata": {},
     "output_type": "execute_result"
    }
   ],
   "source": [
    "import pandas as pd\n",
    "import matplotlib.pyplot as plt\n",
    "import seaborn as sns\n",
    "import numpy as np\n",
    "\n",
    "dfCouCou = pd.read_csv('../Moocs/Coursera_courses.csv')\n",
    "dfCouRev = pd.read_csv('../Moocs/Coursera_reviews.csv')\n",
    "print('Cantidad de filas: ' + str((len(dfCouCou))))\n",
    "dfCouCou.head()"
   ]
  },
  {
   "cell_type": "code",
   "execution_count": 115,
   "metadata": {},
   "outputs": [
    {
     "name": "stdout",
     "output_type": "stream",
     "text": [
      "Cantidad de filas: 1454711\n"
     ]
    },
    {
     "data": {
      "text/html": [
       "<div>\n",
       "<style scoped>\n",
       "    .dataframe tbody tr th:only-of-type {\n",
       "        vertical-align: middle;\n",
       "    }\n",
       "\n",
       "    .dataframe tbody tr th {\n",
       "        vertical-align: top;\n",
       "    }\n",
       "\n",
       "    .dataframe thead th {\n",
       "        text-align: right;\n",
       "    }\n",
       "</style>\n",
       "<table border=\"1\" class=\"dataframe\">\n",
       "  <thead>\n",
       "    <tr style=\"text-align: right;\">\n",
       "      <th></th>\n",
       "      <th>reviews</th>\n",
       "      <th>reviewers</th>\n",
       "      <th>date_reviews</th>\n",
       "      <th>rating</th>\n",
       "      <th>course_id</th>\n",
       "    </tr>\n",
       "  </thead>\n",
       "  <tbody>\n",
       "    <tr>\n",
       "      <th>0</th>\n",
       "      <td>Pretty dry, but I was able to pass with just t...</td>\n",
       "      <td>By Robert S</td>\n",
       "      <td>Feb 12, 2020</td>\n",
       "      <td>4</td>\n",
       "      <td>google-cbrs-cpi-training</td>\n",
       "    </tr>\n",
       "    <tr>\n",
       "      <th>1</th>\n",
       "      <td>would be a better experience if the video and ...</td>\n",
       "      <td>By Gabriel E R</td>\n",
       "      <td>Sep 28, 2020</td>\n",
       "      <td>4</td>\n",
       "      <td>google-cbrs-cpi-training</td>\n",
       "    </tr>\n",
       "    <tr>\n",
       "      <th>2</th>\n",
       "      <td>Information was perfect! The program itself wa...</td>\n",
       "      <td>By Jacob D</td>\n",
       "      <td>Apr 08, 2020</td>\n",
       "      <td>4</td>\n",
       "      <td>google-cbrs-cpi-training</td>\n",
       "    </tr>\n",
       "    <tr>\n",
       "      <th>3</th>\n",
       "      <td>A few grammatical mistakes on test made me do ...</td>\n",
       "      <td>By Dale B</td>\n",
       "      <td>Feb 24, 2020</td>\n",
       "      <td>4</td>\n",
       "      <td>google-cbrs-cpi-training</td>\n",
       "    </tr>\n",
       "    <tr>\n",
       "      <th>4</th>\n",
       "      <td>Excellent course and the training provided was...</td>\n",
       "      <td>By Sean G</td>\n",
       "      <td>Jun 18, 2020</td>\n",
       "      <td>4</td>\n",
       "      <td>google-cbrs-cpi-training</td>\n",
       "    </tr>\n",
       "  </tbody>\n",
       "</table>\n",
       "</div>"
      ],
      "text/plain": [
       "                                             reviews       reviewers  \\\n",
       "0  Pretty dry, but I was able to pass with just t...     By Robert S   \n",
       "1  would be a better experience if the video and ...  By Gabriel E R   \n",
       "2  Information was perfect! The program itself wa...      By Jacob D   \n",
       "3  A few grammatical mistakes on test made me do ...       By Dale B   \n",
       "4  Excellent course and the training provided was...       By Sean G   \n",
       "\n",
       "   date_reviews  rating                 course_id  \n",
       "0  Feb 12, 2020       4  google-cbrs-cpi-training  \n",
       "1  Sep 28, 2020       4  google-cbrs-cpi-training  \n",
       "2  Apr 08, 2020       4  google-cbrs-cpi-training  \n",
       "3  Feb 24, 2020       4  google-cbrs-cpi-training  \n",
       "4  Jun 18, 2020       4  google-cbrs-cpi-training  "
      ]
     },
     "execution_count": 115,
     "metadata": {},
     "output_type": "execute_result"
    }
   ],
   "source": [
    "print('Cantidad de filas: ' + str(len(dfCouRev)))\n",
    "dfCouRev.head()"
   ]
  },
  {
   "cell_type": "code",
   "execution_count": 116,
   "metadata": {},
   "outputs": [
    {
     "name": "stdout",
     "output_type": "stream",
     "text": [
      "<class 'pandas.core.frame.DataFrame'>\n",
      "RangeIndex: 623 entries, 0 to 622\n",
      "Data columns (total 4 columns):\n",
      " #   Column       Non-Null Count  Dtype \n",
      "---  ------       --------------  ----- \n",
      " 0   name         623 non-null    object\n",
      " 1   institution  623 non-null    object\n",
      " 2   course_url   623 non-null    object\n",
      " 3   course_id    623 non-null    object\n",
      "dtypes: object(4)\n",
      "memory usage: 19.6+ KB\n"
     ]
    }
   ],
   "source": [
    "dfCouCou.info()"
   ]
  },
  {
   "cell_type": "code",
   "execution_count": 117,
   "metadata": {},
   "outputs": [
    {
     "name": "stdout",
     "output_type": "stream",
     "text": [
      "<class 'pandas.core.frame.DataFrame'>\n",
      "RangeIndex: 1454711 entries, 0 to 1454710\n",
      "Data columns (total 5 columns):\n",
      " #   Column        Non-Null Count    Dtype \n",
      "---  ------        --------------    ----- \n",
      " 0   reviews       1454571 non-null  object\n",
      " 1   reviewers     1454711 non-null  object\n",
      " 2   date_reviews  1454711 non-null  object\n",
      " 3   rating        1454711 non-null  int64 \n",
      " 4   course_id     1454711 non-null  object\n",
      "dtypes: int64(1), object(4)\n",
      "memory usage: 55.5+ MB\n"
     ]
    }
   ],
   "source": [
    "dfCouRev.info()"
   ]
  },
  {
   "cell_type": "markdown",
   "metadata": {},
   "source": [
    "## Obtenemos el promedio del rating por id de curso. ##"
   ]
  },
  {
   "cell_type": "code",
   "execution_count": 118,
   "metadata": {},
   "outputs": [
    {
     "name": "stdout",
     "output_type": "stream",
     "text": [
      "Cantidad de filas: 519947\n"
     ]
    }
   ],
   "source": [
    "#Removemos reviews duplicadas.\n",
    "dfDupesRev = dfCouRev.drop_duplicates()\n",
    "print('Cantidad de filas: ' + str(len(dfDupesRev)))"
   ]
  },
  {
   "cell_type": "code",
   "execution_count": 119,
   "metadata": {},
   "outputs": [
    {
     "name": "stdout",
     "output_type": "stream",
     "text": [
      "Cantidad de filas: 604\n"
     ]
    },
    {
     "data": {
      "text/html": [
       "<div>\n",
       "<style scoped>\n",
       "    .dataframe tbody tr th:only-of-type {\n",
       "        vertical-align: middle;\n",
       "    }\n",
       "\n",
       "    .dataframe tbody tr th {\n",
       "        vertical-align: top;\n",
       "    }\n",
       "\n",
       "    .dataframe thead th {\n",
       "        text-align: right;\n",
       "    }\n",
       "</style>\n",
       "<table border=\"1\" class=\"dataframe\">\n",
       "  <thead>\n",
       "    <tr style=\"text-align: right;\">\n",
       "      <th></th>\n",
       "      <th>course_id</th>\n",
       "      <th>reviewers</th>\n",
       "      <th>rating</th>\n",
       "    </tr>\n",
       "  </thead>\n",
       "  <tbody>\n",
       "    <tr>\n",
       "      <th>0</th>\n",
       "      <td>aboriginal-education</td>\n",
       "      <td>67</td>\n",
       "      <td>4.552239</td>\n",
       "    </tr>\n",
       "    <tr>\n",
       "      <th>1</th>\n",
       "      <td>access-control-sscp</td>\n",
       "      <td>45</td>\n",
       "      <td>4.466667</td>\n",
       "    </tr>\n",
       "    <tr>\n",
       "      <th>2</th>\n",
       "      <td>accounting-analytics</td>\n",
       "      <td>468</td>\n",
       "      <td>4.395299</td>\n",
       "    </tr>\n",
       "    <tr>\n",
       "      <th>3</th>\n",
       "      <td>accounting-data-analytics-python</td>\n",
       "      <td>8</td>\n",
       "      <td>3.500000</td>\n",
       "    </tr>\n",
       "    <tr>\n",
       "      <th>4</th>\n",
       "      <td>actualizacion-manejo-diabetes-tipo-2</td>\n",
       "      <td>253</td>\n",
       "      <td>4.845850</td>\n",
       "    </tr>\n",
       "  </tbody>\n",
       "</table>\n",
       "</div>"
      ],
      "text/plain": [
       "                              course_id  reviewers    rating\n",
       "0                  aboriginal-education         67  4.552239\n",
       "1                   access-control-sscp         45  4.466667\n",
       "2                  accounting-analytics        468  4.395299\n",
       "3      accounting-data-analytics-python          8  3.500000\n",
       "4  actualizacion-manejo-diabetes-tipo-2        253  4.845850"
      ]
     },
     "execution_count": 119,
     "metadata": {},
     "output_type": "execute_result"
    }
   ],
   "source": [
    "dfCouMeanCount = dfDupesRev.groupby('course_id') \\\n",
    "       .agg({ 'reviewers':'size','rating':'mean'}) \\\n",
    "       .rename(columns={'text':'count','sent':'rating'}) \\\n",
    "       .reset_index()\n",
    "print('Cantidad de filas: ' + str(len(dfCouMeanCount)))\n",
    "dfCouMeanCount.head()"
   ]
  },
  {
   "cell_type": "markdown",
   "metadata": {},
   "source": [
    "### Verificamos la ditribucion del rating ###"
   ]
  },
  {
   "cell_type": "code",
   "execution_count": 143,
   "metadata": {},
   "outputs": [
    {
     "data": {
      "image/png": "[encoded data removed]",
      "text/plain": [
       "<Figure size 1000x600 with 1 Axes>"
      ]
     },
     "metadata": {},
     "output_type": "display_data"
    }
   ],
   "source": [
    "plt.rcParams.update({'font.size': 12, 'axes.axisbelow': True})\n",
    "plt.figure(figsize = (10, 6))\n",
    "plt.hist(dfCouMeanCount['rating'],bins=50,range=(0,5), rwidth=0.9,\n",
    "         color='#fd6767')\n",
    "plt.grid(axis='y', color ='Grey',\n",
    "        linestyle ='-.', linewidth = 0.1)\n",
    "plt.xticks(range(0,5,1))\n",
    "plt.margins(0.01)\n",
    "plt.xlabel(\"Rating\", labelpad=10)\n",
    "plt.ylabel(\"Count\")\n",
    "plt.title('Distribucion del rating por curso:\\n',loc='center', fontdict={'fontsize': 16})\n",
    "plt.show()"
   ]
  },
  {
   "cell_type": "markdown",
   "metadata": {},
   "source": [
    "### Unificamos las tablas de cursos y reviews ###"
   ]
  },
  {
   "cell_type": "code",
   "execution_count": 121,
   "metadata": {},
   "outputs": [
    {
     "name": "stdout",
     "output_type": "stream",
     "text": [
      "Cantidad de filas: 604\n"
     ]
    },
    {
     "data": {
      "text/html": [
       "<div>\n",
       "<style scoped>\n",
       "    .dataframe tbody tr th:only-of-type {\n",
       "        vertical-align: middle;\n",
       "    }\n",
       "\n",
       "    .dataframe tbody tr th {\n",
       "        vertical-align: top;\n",
       "    }\n",
       "\n",
       "    .dataframe thead th {\n",
       "        text-align: right;\n",
       "    }\n",
       "</style>\n",
       "<table border=\"1\" class=\"dataframe\">\n",
       "  <thead>\n",
       "    <tr style=\"text-align: right;\">\n",
       "      <th></th>\n",
       "      <th>name</th>\n",
       "      <th>institution</th>\n",
       "      <th>course_url</th>\n",
       "      <th>course_id</th>\n",
       "      <th>reviewers</th>\n",
       "      <th>rating</th>\n",
       "    </tr>\n",
       "  </thead>\n",
       "  <tbody>\n",
       "    <tr>\n",
       "      <th>0</th>\n",
       "      <td>Machine Learning</td>\n",
       "      <td>Stanford University</td>\n",
       "      <td>https://www.coursera.org/learn/machine-learning</td>\n",
       "      <td>machine-learning</td>\n",
       "      <td>12677</td>\n",
       "      <td>4.739923</td>\n",
       "    </tr>\n",
       "    <tr>\n",
       "      <th>1</th>\n",
       "      <td>Indigenous Canada</td>\n",
       "      <td>University of Alberta</td>\n",
       "      <td>https://www.coursera.org/learn/indigenous-canada</td>\n",
       "      <td>indigenous-canada</td>\n",
       "      <td>1460</td>\n",
       "      <td>4.816438</td>\n",
       "    </tr>\n",
       "    <tr>\n",
       "      <th>2</th>\n",
       "      <td>The Science of Well-Being</td>\n",
       "      <td>Yale University</td>\n",
       "      <td>https://www.coursera.org/learn/the-science-of-...</td>\n",
       "      <td>the-science-of-well-being</td>\n",
       "      <td>8199</td>\n",
       "      <td>4.929504</td>\n",
       "    </tr>\n",
       "    <tr>\n",
       "      <th>3</th>\n",
       "      <td>Technical Support Fundamentals</td>\n",
       "      <td>Google</td>\n",
       "      <td>https://www.coursera.org/learn/technical-suppo...</td>\n",
       "      <td>technical-support-fundamentals</td>\n",
       "      <td>12055</td>\n",
       "      <td>4.767482</td>\n",
       "    </tr>\n",
       "    <tr>\n",
       "      <th>4</th>\n",
       "      <td>Become a CBRS Certified Professional Installer...</td>\n",
       "      <td>Google - Spectrum Sharing</td>\n",
       "      <td>https://www.coursera.org/learn/google-cbrs-cpi...</td>\n",
       "      <td>google-cbrs-cpi-training</td>\n",
       "      <td>33</td>\n",
       "      <td>4.818182</td>\n",
       "    </tr>\n",
       "  </tbody>\n",
       "</table>\n",
       "</div>"
      ],
      "text/plain": [
       "                                                name  \\\n",
       "0                                   Machine Learning   \n",
       "1                                  Indigenous Canada   \n",
       "2                          The Science of Well-Being   \n",
       "3                     Technical Support Fundamentals   \n",
       "4  Become a CBRS Certified Professional Installer...   \n",
       "\n",
       "                 institution  \\\n",
       "0        Stanford University   \n",
       "1      University of Alberta   \n",
       "2            Yale University   \n",
       "3                     Google   \n",
       "4  Google - Spectrum Sharing   \n",
       "\n",
       "                                          course_url  \\\n",
       "0    https://www.coursera.org/learn/machine-learning   \n",
       "1   https://www.coursera.org/learn/indigenous-canada   \n",
       "2  https://www.coursera.org/learn/the-science-of-...   \n",
       "3  https://www.coursera.org/learn/technical-suppo...   \n",
       "4  https://www.coursera.org/learn/google-cbrs-cpi...   \n",
       "\n",
       "                        course_id  reviewers    rating  \n",
       "0                machine-learning      12677  4.739923  \n",
       "1               indigenous-canada       1460  4.816438  \n",
       "2       the-science-of-well-being       8199  4.929504  \n",
       "3  technical-support-fundamentals      12055  4.767482  \n",
       "4        google-cbrs-cpi-training         33  4.818182  "
      ]
     },
     "execution_count": 121,
     "metadata": {},
     "output_type": "execute_result"
    }
   ],
   "source": [
    "dfmerge = pd.merge(dfCouCou, dfCouMeanCount, on=\"course_id\")\n",
    "print('Cantidad de filas: ' + str(len(dfmerge)))\n",
    "dfmerge.head()"
   ]
  },
  {
   "cell_type": "markdown",
   "metadata": {},
   "source": [
    "### Obtenemos datos varios para una mejor comprensión del dataset. ###"
   ]
  },
  {
   "cell_type": "code",
   "execution_count": 122,
   "metadata": {},
   "outputs": [
    {
     "name": "stdout",
     "output_type": "stream",
     "text": [
      "Cantidad de cursos: 603\n",
      "Cantidad de instituciones: 132\n"
     ]
    }
   ],
   "source": [
    "print('Cantidad de cursos: ' + str(len(pd.unique(dfmerge['name'].sort_values()))))\n",
    "print('Cantidad de instituciones: ' + str(len(pd.unique(dfmerge['institution'].sort_values()))))"
   ]
  },
  {
   "cell_type": "code",
   "execution_count": 136,
   "metadata": {},
   "outputs": [
    {
     "name": "stdout",
     "output_type": "stream",
     "text": [
      "Top 10 Institutos por cantidad de cursos: \n",
      "\n",
      "institution                                   size\n",
      "------------------------------------------  ------\n",
      "University of Pennsylvania                      43\n",
      "University of Michigan                          31\n",
      "Duke University                                 23\n",
      "Google Cloud                                    22\n",
      "IBM                                             18\n",
      "University of Virginia                          17\n",
      "Yale University                                 17\n",
      "DeepLearning.AI                                 16\n",
      "University of California, Irvine                15\n",
      "University of Illinois at Urbana-Champaign      14\n"
     ]
    }
   ],
   "source": [
    "e_df = dfmerge.groupby(['institution'], as_index=False).size().sort_values(by='size',ascending=False)\n",
    "print('Top 10 Institutos por cantidad de cursos: \\n')\n",
    "print(e_df[:10].to_markdown(tablefmt=\"rounded_outline\", index=False))"
   ]
  },
  {
   "cell_type": "code",
   "execution_count": 124,
   "metadata": {},
   "outputs": [
    {
     "name": "stdout",
     "output_type": "stream",
     "text": [
      "Top 10 Cursos por Rating: \n",
      "\n",
      "name                                                                                               rating\n",
      "-----------------------------------------------------------------------------------------------  --------\n",
      "Entreprise et changement climatique                                                               5\n",
      "Building Modern Python Applications on AWS                                                        5\n",
      "Removing Barriers to Change                                                                       5\n",
      "How to Manage a Remote Team                                                                       5\n",
      "El Abogado del Futuro: Legaltech y la Transformación Digital del Derecho                          4.968\n",
      "Bugs 101: Insect-Human Interactions                                                               4.96296\n",
      "Build a Modern Computer from First Principles: Nand to Tetris Part II (project-centered course)   4.95699\n",
      "Everyday Excel, Part 2                                                                            4.95\n",
      "Everyday Parenting: The ABCs of Child Rearing                                                     4.92953\n",
      "The Science of Well-Being                                                                         4.9295\n"
     ]
    }
   ],
   "source": [
    "%matplotlib inline\n",
    "\n",
    "e_df = dfmerge.sort_values(by=['rating'],ascending=False)\n",
    "e_df = e_df[['name','rating']]\n",
    "print('Top 10 Cursos por Rating: \\n')\n",
    "print(e_df[:10].to_markdown(tablefmt=\"rounded_outline\", index=False))\n"
   ]
  },
  {
   "cell_type": "code",
   "execution_count": 125,
   "metadata": {},
   "outputs": [
    {
     "name": "stdout",
     "output_type": "stream",
     "text": [
      "Top 10 Institutos por Rating de su mejor curso: \n",
      "\n",
      "institution                       rating\n",
      "------------------------------  --------\n",
      "ESSEC Business School            5\n",
      "Amazon Web Services              5\n",
      "University of Pennsylvania       5\n",
      "GitLab                           5\n",
      "Universidad Austral              4.968\n",
      "University of Alberta            4.96296\n",
      "Hebrew University of Jerusalem   4.95699\n",
      "University of Colorado Boulder   4.95\n",
      "Yale University                  4.92953\n",
      "Yale University                  4.9295\n"
     ]
    }
   ],
   "source": [
    "e_df = dfmerge.sort_values(by=['rating'],ascending=False)\n",
    "e_df = e_df[['institution','rating']]\n",
    "print('Top 10 Institutos por Rating de su mejor curso: \\n')\n",
    "print(e_df[:10].to_markdown(tablefmt=\"rounded_outline\", index=False))"
   ]
  },
  {
   "cell_type": "code",
   "execution_count": 126,
   "metadata": {},
   "outputs": [
    {
     "name": "stdout",
     "output_type": "stream",
     "text": [
      "Top 10 Institutos por promedio de Rating de sus cursos:\n"
     ]
    },
    {
     "data": {
      "text/plain": [
       "institution\n",
       "Berklee College of Music                  4.810011\n",
       "BCG                                       4.804887\n",
       "American Museum of Natural History        4.734177\n",
       "Arizona State University                  4.729209\n",
       "Atlassian                                 4.705372\n",
       "Autodesk                                  4.700935\n",
       "Advancing Women in Product                4.600000\n",
       "Alberta Machine Intelligence Institute    4.569660\n",
       "Amazon Web Services                       4.514876\n",
       "(ISC)²                                    4.466667\n",
       "Name: rating, dtype: float64"
      ]
     },
     "execution_count": 126,
     "metadata": {},
     "output_type": "execute_result"
    }
   ],
   "source": [
    "e_df = dfmerge.groupby('institution')['rating'].mean()\n",
    "print('Top 10 Institutos por promedio de Rating de sus cursos:')\n",
    "e_df.head(10).sort_values(ascending=False)"
   ]
  },
  {
   "cell_type": "code",
   "execution_count": 133,
   "metadata": {},
   "outputs": [
    {
     "name": "stdout",
     "output_type": "stream",
     "text": [
      "Cantidad de cursos con reviews menores a 1: 0\n",
      "Cantidad de cursos con reviews menores a 2: 4\n",
      "Cantidad de cursos con reviews menores a 3: 4\n",
      "Cantidad de cursos con reviews menores a 4: 24\n",
      "Cantidad de cursos con reviews menores a 5: 600\n"
     ]
    }
   ],
   "source": [
    "print('Cantidad de cursos con reviews menores a 1: ' + str(len(dfmerge[dfmerge['rating'] < 1])))\n",
    "print('Cantidad de cursos con reviews menores a 2: ' + str(len(dfmerge[dfmerge['rating'] < 2])))\n",
    "print('Cantidad de cursos con reviews menores a 3: ' + str(len(dfmerge[dfmerge['rating'] < 3])))\n",
    "print('Cantidad de cursos con reviews menores a 4: ' + str(len(dfmerge[dfmerge['rating'] < 4])))\n",
    "print('Cantidad de cursos con reviews menores a 5: ' + str(len(dfmerge[dfmerge['rating'] < 5])))"
   ]
  },
  {
   "cell_type": "markdown",
   "metadata": {},
   "source": [
    "# Conclusion #"
   ]
  },
  {
   "cell_type": "markdown",
   "metadata": {},
   "source": [
    "Con este dataset podemos observar que la gran mayoría de las reviews y ratings son positivas, pareciera ser que a los cursantes en general le gustan estos cursos o no se interesan en dejar reviews y ratings negativos. <br>\n",
    "Además podemos encontrar en el listado \"Top 10 Institutos por promedio de Rating de sus cursos\" cuales son los isntitutos que ofrecen los cursos que mas agradan a los cursantes."
   ]
  },
  {
   "cell_type": "markdown",
   "metadata": {},
   "source": [
    "Escribir cursos para wordcloud"
   ]
  },
  {
   "cell_type": "code",
   "execution_count": 137,
   "metadata": {},
   "outputs": [],
   "source": [
    "import csv   \n",
    "\n",
    "with open(r'../Power Bi/wordCloud.csv', 'a') as f:\n",
    "    writer = csv.writer(f)\n",
    "    writer.writerow(dfmerge['name'])"
   ]
  },
  {
   "cell_type": "code",
   "execution_count": 138,
   "metadata": {},
   "outputs": [],
   "source": [
    "dfmerge.to_csv('../Power Bi/Coursera.csv',index=False)"
   ]
  }
 ],
 "metadata": {
  "kernelspec": {
   "display_name": "Python 3.10.4 64-bit",
   "language": "python",
   "name": "python3"
  },
  "language_info": {
   "codemirror_mode": {
    "name": "ipython",
    "version": 3
   },
   "file_extension": ".py",
   "mimetype": "text/x-python",
   "name": "python",
   "nbconvert_exporter": "python",
   "pygments_lexer": "ipython3",
   "version": "3.10.4"
  },
  "orig_nbformat": 4,
  "vscode": {
   "interpreter": {
    "hash": "012f29fa124df80e053fa08be2a3f0c6744604e00976ac4c44ee25b4dd9797b6"
   }
  }
 },
 "nbformat": 4,
 "nbformat_minor": 2
}
